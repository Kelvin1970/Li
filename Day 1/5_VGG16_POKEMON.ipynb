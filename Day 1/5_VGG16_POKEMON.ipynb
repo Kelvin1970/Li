{
  "nbformat": 4,
  "nbformat_minor": 0,
  "metadata": {
    "colab": {
      "name": "5_VGG16_POKEMON.ipynb",
      "provenance": [],
      "collapsed_sections": []
    },
    "kernelspec": {
      "name": "python3",
      "display_name": "Python 3"
    }
  },
  "cells": [
    {
      "cell_type": "markdown",
      "metadata": {
        "id": "OmbBv2H_6JzV",
        "colab_type": "text"
      },
      "source": [
        "**Mount Google Drive locally**\n",
        "\n",
        "Mount your Google Drive on your runtime using an authorization code\n",
        "\n"
      ]
    },
    {
      "cell_type": "code",
      "metadata": {
        "id": "zhOT3Cz957zD",
        "colab_type": "code",
        "colab": {
          "base_uri": "https://localhost:8080/",
          "height": 34
        },
        "outputId": "f85d7c7e-4cce-4ae7-cf1f-56e9a0a93440"
      },
      "source": [
        "from google.colab import drive\n",
        "drive.mount('/content/drive')"
      ],
      "execution_count": 29,
      "outputs": [
        {
          "output_type": "stream",
          "text": [
            "Drive already mounted at /content/drive; to attempt to forcibly remount, call drive.mount(\"/content/drive\", force_remount=True).\n"
          ],
          "name": "stdout"
        }
      ]
    },
    {
      "cell_type": "code",
      "metadata": {
        "id": "kbYZZYc06VWC",
        "colab_type": "code",
        "colab": {}
      },
      "source": [
        "import cv2\n",
        "import numpy as np\n",
        "from keras.preprocessing import image\n",
        "from keras.preprocessing.image import img_to_array\n",
        "from keras.applications import vgg16\n",
        "dataset_path = \"/content/drive/My Drive/DATASETS/dataset\"\n",
        "IMAGE_DIMS = (224, 224, 3)\n"
      ],
      "execution_count": 0,
      "outputs": []
    },
    {
      "cell_type": "code",
      "metadata": {
        "id": "DMpu8jh16qDk",
        "colab_type": "code",
        "colab": {}
      },
      "source": [
        "# load the image\n",
        "image = cv2.imread(dataset_path + '/squirtle/00000000.png')\n",
        "# pre-process the image for classification\n",
        "image = cv2.resize(image, (IMAGE_DIMS[0], IMAGE_DIMS[1]))\n",
        "image = image.astype(\"float\") / 255.0\n",
        "image = img_to_array(image)\n",
        "image = np.expand_dims(image, axis=0)\n",
        "# Normalize the input image's pixel values to the range used when training the neural network\n",
        "x = vgg16.preprocess_input(image)\n"
      ],
      "execution_count": 0,
      "outputs": []
    },
    {
      "cell_type": "code",
      "metadata": {
        "id": "ZhDWuVTD7jdn",
        "colab_type": "code",
        "colab": {}
      },
      "source": [
        "# Load Keras' VGG16 model that was pre-trained against the ImageNet database\n",
        "model = vgg16.VGG16()"
      ],
      "execution_count": 0,
      "outputs": []
    },
    {
      "cell_type": "code",
      "metadata": {
        "id": "QWhR2PHd7lSL",
        "colab_type": "code",
        "colab": {}
      },
      "source": [
        "# Run the image through the deep neural network to make a prediction\n",
        "predictions = model.predict(x)"
      ],
      "execution_count": 0,
      "outputs": []
    },
    {
      "cell_type": "code",
      "metadata": {
        "id": "YUJgrFtW7p4I",
        "colab_type": "code",
        "colab": {
          "base_uri": "https://localhost:8080/",
          "height": 119
        },
        "outputId": "ff01f893-b76f-44d1-a21d-0bd12ff3ad64"
      },
      "source": [
        "# Look up the names of the predicted classes. Index zero is the results for the first image.\n",
        "predicted_classes = vgg16.decode_predictions(predictions)\n",
        "\n",
        "print(\"Top predictions for this image:\")\n",
        "\n",
        "for imagenet_id, name, likelihood in predicted_classes[0]:\n",
        "    print(\"Prediction: {} - {:2f}\".format(name, likelihood))"
      ],
      "execution_count": 35,
      "outputs": [
        {
          "output_type": "stream",
          "text": [
            "Top predictions for this image:\n",
            "Prediction: matchstick - 0.077864\n",
            "Prediction: nematode - 0.050015\n",
            "Prediction: lighter - 0.031218\n",
            "Prediction: digital_clock - 0.030732\n",
            "Prediction: spotlight - 0.024098\n"
          ],
          "name": "stdout"
        }
      ]
    },
    {
      "cell_type": "markdown",
      "metadata": {
        "id": "DdFBfURvTcaP",
        "colab_type": "text"
      },
      "source": [
        ""
      ]
    },
    {
      "cell_type": "code",
      "metadata": {
        "id": "nAcvH7tF7s4O",
        "colab_type": "code",
        "colab": {}
      },
      "source": [
        ""
      ],
      "execution_count": 0,
      "outputs": []
    }
  ]
}